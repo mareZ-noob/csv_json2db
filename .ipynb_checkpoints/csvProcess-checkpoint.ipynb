{
 "cells": [
  {
   "cell_type": "code",
   "execution_count": 1,
   "metadata": {},
   "outputs": [],
   "source": [
    "import os, shutil, json, codecs\n",
    "import psycopg2\n",
    "import pandas as pd\n",
    "import matplotlib as plt\n",
    "import numpy as np"
   ]
  },
  {
   "cell_type": "code",
   "execution_count": 2,
   "metadata": {
    "scrolled": true
   },
   "outputs": [
    {
     "data": {
      "text/html": [
       "<div>\n",
       "<style scoped>\n",
       "    .dataframe tbody tr th:only-of-type {\n",
       "        vertical-align: middle;\n",
       "    }\n",
       "\n",
       "    .dataframe tbody tr th {\n",
       "        vertical-align: top;\n",
       "    }\n",
       "\n",
       "    .dataframe thead th {\n",
       "        text-align: right;\n",
       "    }\n",
       "</style>\n",
       "<table border=\"1\" class=\"dataframe\">\n",
       "  <thead>\n",
       "    <tr style=\"text-align: right;\">\n",
       "      <th></th>\n",
       "      <th>ID</th>\n",
       "      <th>First Name</th>\n",
       "      <th>Last Name</th>\n",
       "      <th>Gender</th>\n",
       "      <th>Username</th>\n",
       "      <th>Email</th>\n",
       "      <th>University</th>\n",
       "      <th>Language</th>\n",
       "    </tr>\n",
       "  </thead>\n",
       "  <tbody>\n",
       "    <tr>\n",
       "      <th>0</th>\n",
       "      <td>1</td>\n",
       "      <td>Cecilius</td>\n",
       "      <td>Jewsbury</td>\n",
       "      <td>Male</td>\n",
       "      <td>cjewsbury0</td>\n",
       "      <td>cjewsbury0@pen.io</td>\n",
       "      <td>Swinburne University of Technology, Sarawak Ca...</td>\n",
       "      <td>Bengali</td>\n",
       "    </tr>\n",
       "    <tr>\n",
       "      <th>1</th>\n",
       "      <td>2</td>\n",
       "      <td>Garik</td>\n",
       "      <td>Lawford</td>\n",
       "      <td>Male</td>\n",
       "      <td>glawford1</td>\n",
       "      <td>glawford1@trellian.com</td>\n",
       "      <td>Bangladesh University of Professionals</td>\n",
       "      <td>Bislama</td>\n",
       "    </tr>\n",
       "    <tr>\n",
       "      <th>2</th>\n",
       "      <td>3</td>\n",
       "      <td>Estrellita</td>\n",
       "      <td>Azam</td>\n",
       "      <td>Female</td>\n",
       "      <td>eazam2</td>\n",
       "      <td>eazam2@ustream.tv</td>\n",
       "      <td>University of Peradeniya</td>\n",
       "      <td>Tok Pisin</td>\n",
       "    </tr>\n",
       "    <tr>\n",
       "      <th>3</th>\n",
       "      <td>4</td>\n",
       "      <td>Christabel</td>\n",
       "      <td>de Keep</td>\n",
       "      <td>Female</td>\n",
       "      <td>cdekeep3</td>\n",
       "      <td>cdekeep3@census.gov</td>\n",
       "      <td>Mississippi State University</td>\n",
       "      <td>Hebrew</td>\n",
       "    </tr>\n",
       "    <tr>\n",
       "      <th>4</th>\n",
       "      <td>5</td>\n",
       "      <td>Ev</td>\n",
       "      <td>Darrel</td>\n",
       "      <td>Male</td>\n",
       "      <td>edarrel4</td>\n",
       "      <td>edarrel4@examiner.com</td>\n",
       "      <td>Southern Connecticut State University</td>\n",
       "      <td>Aymara</td>\n",
       "    </tr>\n",
       "    <tr>\n",
       "      <th>...</th>\n",
       "      <td>...</td>\n",
       "      <td>...</td>\n",
       "      <td>...</td>\n",
       "      <td>...</td>\n",
       "      <td>...</td>\n",
       "      <td>...</td>\n",
       "      <td>...</td>\n",
       "      <td>...</td>\n",
       "    </tr>\n",
       "    <tr>\n",
       "      <th>995</th>\n",
       "      <td>996</td>\n",
       "      <td>Hillel</td>\n",
       "      <td>Gunson</td>\n",
       "      <td>Male</td>\n",
       "      <td>hgunsonrn</td>\n",
       "      <td>hgunsonrn@example.com</td>\n",
       "      <td>Ecole des Hautes Etudes Commerciales MAROC</td>\n",
       "      <td>Gujarati</td>\n",
       "    </tr>\n",
       "    <tr>\n",
       "      <th>996</th>\n",
       "      <td>997</td>\n",
       "      <td>Calv</td>\n",
       "      <td>Antonutti</td>\n",
       "      <td>Male</td>\n",
       "      <td>cantonuttiro</td>\n",
       "      <td>cantonuttiro@123-reg.co.uk</td>\n",
       "      <td>North Eastern Hill University</td>\n",
       "      <td>Lithuanian</td>\n",
       "    </tr>\n",
       "    <tr>\n",
       "      <th>997</th>\n",
       "      <td>998</td>\n",
       "      <td>Chip</td>\n",
       "      <td>Hanney</td>\n",
       "      <td>Male</td>\n",
       "      <td>channeyrp</td>\n",
       "      <td>channeyrp@kickstarter.com</td>\n",
       "      <td>Mordovian State University</td>\n",
       "      <td>Belarusian</td>\n",
       "    </tr>\n",
       "    <tr>\n",
       "      <th>998</th>\n",
       "      <td>999</td>\n",
       "      <td>Ric</td>\n",
       "      <td>Linde</td>\n",
       "      <td>Male</td>\n",
       "      <td>rlinderq</td>\n",
       "      <td>rlinderq@imgur.com</td>\n",
       "      <td>Université Kongo</td>\n",
       "      <td>Punjabi</td>\n",
       "    </tr>\n",
       "    <tr>\n",
       "      <th>999</th>\n",
       "      <td>1000</td>\n",
       "      <td>Nelie</td>\n",
       "      <td>Padell</td>\n",
       "      <td>Female</td>\n",
       "      <td>npadellrr</td>\n",
       "      <td>npadellrr@npr.org</td>\n",
       "      <td>Christian-Albrechts-Universität Kiel</td>\n",
       "      <td>Swahili</td>\n",
       "    </tr>\n",
       "  </tbody>\n",
       "</table>\n",
       "<p>1000 rows × 8 columns</p>\n",
       "</div>"
      ],
      "text/plain": [
       "       ID  First Name  Last Name  Gender      Username  \\\n",
       "0       1    Cecilius   Jewsbury    Male    cjewsbury0   \n",
       "1       2       Garik    Lawford    Male     glawford1   \n",
       "2       3  Estrellita       Azam  Female        eazam2   \n",
       "3       4  Christabel    de Keep  Female      cdekeep3   \n",
       "4       5          Ev     Darrel    Male      edarrel4   \n",
       "..    ...         ...        ...     ...           ...   \n",
       "995   996      Hillel     Gunson    Male     hgunsonrn   \n",
       "996   997        Calv  Antonutti    Male  cantonuttiro   \n",
       "997   998        Chip     Hanney    Male     channeyrp   \n",
       "998   999         Ric      Linde    Male      rlinderq   \n",
       "999  1000       Nelie     Padell  Female     npadellrr   \n",
       "\n",
       "                          Email  \\\n",
       "0             cjewsbury0@pen.io   \n",
       "1        glawford1@trellian.com   \n",
       "2             eazam2@ustream.tv   \n",
       "3           cdekeep3@census.gov   \n",
       "4         edarrel4@examiner.com   \n",
       "..                          ...   \n",
       "995       hgunsonrn@example.com   \n",
       "996  cantonuttiro@123-reg.co.uk   \n",
       "997   channeyrp@kickstarter.com   \n",
       "998          rlinderq@imgur.com   \n",
       "999           npadellrr@npr.org   \n",
       "\n",
       "                                            University    Language  \n",
       "0    Swinburne University of Technology, Sarawak Ca...     Bengali  \n",
       "1               Bangladesh University of Professionals     Bislama  \n",
       "2                             University of Peradeniya   Tok Pisin  \n",
       "3                         Mississippi State University      Hebrew  \n",
       "4                Southern Connecticut State University      Aymara  \n",
       "..                                                 ...         ...  \n",
       "995         Ecole des Hautes Etudes Commerciales MAROC    Gujarati  \n",
       "996                      North Eastern Hill University  Lithuanian  \n",
       "997                         Mordovian State University  Belarusian  \n",
       "998                                   Université Kongo     Punjabi  \n",
       "999               Christian-Albrechts-Universität Kiel     Swahili  \n",
       "\n",
       "[1000 rows x 8 columns]"
      ]
     },
     "execution_count": 2,
     "metadata": {},
     "output_type": "execute_result"
    }
   ],
   "source": [
    "file = \"Student @Information!.csv\";\n",
    "df = pd.read_csv(file)\n",
    "df"
   ]
  },
  {
   "cell_type": "code",
   "execution_count": 3,
   "metadata": {},
   "outputs": [
    {
     "data": {
      "text/plain": [
       "'student_information'"
      ]
     },
     "execution_count": 3,
     "metadata": {},
     "output_type": "execute_result"
    }
   ],
   "source": [
    "# adjust table name\n",
    "file_name = file.split(\".\")[0]\n",
    "table = file_name.lower().replace(\" \", \"_\").replace(\"!\", \"\").replace(\"@\", \"\")\n",
    "table"
   ]
  },
  {
   "cell_type": "code",
   "execution_count": 4,
   "metadata": {},
   "outputs": [
    {
     "data": {
      "text/plain": [
       "Index(['ID', 'First Name', 'Last Name', 'Gender', 'Username', 'Email',\n",
       "       'University', 'Language'],\n",
       "      dtype='object')"
      ]
     },
     "execution_count": 4,
     "metadata": {},
     "output_type": "execute_result"
    }
   ],
   "source": [
    "df.columns"
   ]
  },
  {
   "cell_type": "code",
   "execution_count": 5,
   "metadata": {},
   "outputs": [
    {
     "data": {
      "text/plain": [
       "Index(['id', 'first_name', 'last_name', 'gender', 'username', 'email',\n",
       "       'university', 'language'],\n",
       "      dtype='object')"
      ]
     },
     "execution_count": 5,
     "metadata": {},
     "output_type": "execute_result"
    }
   ],
   "source": [
    "df.columns = [x.lower().replace(\" \", \"_\") for x in df.columns]\n",
    "df.columns"
   ]
  },
  {
   "cell_type": "code",
   "execution_count": 6,
   "metadata": {},
   "outputs": [
    {
     "name": "stdout",
     "output_type": "stream",
     "text": [
      "Connect successfully!\n"
     ]
    }
   ],
   "source": [
    "conn = cur = None\n",
    "conn = psycopg2.connect(\n",
    "    host=\"localhost\", \n",
    "    dbname=\"csv_db\", \n",
    "    user=\"postgres\", \n",
    "    password=\"namvt16052004\", \n",
    "    port=5432\n",
    ")\n",
    "cur = conn.cursor()\n",
    "if (conn and cur):\n",
    "    print(\"Connect successfully!\")"
   ]
  },
  {
   "cell_type": "code",
   "execution_count": 12,
   "metadata": {},
   "outputs": [
    {
     "ename": "TypeError",
     "evalue": "function missing required argument 'query' (pos 1)",
     "output_type": "error",
     "traceback": [
      "\u001b[0;31m---------------------------------------------------------------------------\u001b[0m",
      "\u001b[0;31mTypeError\u001b[0m                                 Traceback (most recent call last)",
      "Cell \u001b[0;32mIn[12], line 3\u001b[0m\n\u001b[1;32m      1\u001b[0m \u001b[38;5;28;01mfor\u001b[39;00m row \u001b[38;5;129;01min\u001b[39;00m df\u001b[38;5;241m.\u001b[39mcolumns:\n\u001b[1;32m      2\u001b[0m     create_table \u001b[38;5;241m=\u001b[39m \u001b[38;5;124m\"\u001b[39m\u001b[38;5;124mcreate table \u001b[39m\u001b[38;5;132;01m{row}\u001b[39;00m\u001b[38;5;124m\"\u001b[39m\n\u001b[0;32m----> 3\u001b[0m     \u001b[43mcur\u001b[49m\u001b[38;5;241;43m.\u001b[39;49m\u001b[43mexecute\u001b[49m\u001b[43m(\u001b[49m\u001b[43m)\u001b[49m\n",
      "\u001b[0;31mTypeError\u001b[0m: function missing required argument 'query' (pos 1)"
     ]
    }
   ],
   "source": [
    "for row in df.columns:\n",
    "    create_table = \"create table {row}\"\n",
    "    cur.execute(create_table)"
   ]
  }
 ],
 "metadata": {
  "kernelspec": {
   "display_name": "Python 3 (ipykernel)",
   "language": "python",
   "name": "python3"
  },
  "language_info": {
   "codemirror_mode": {
    "name": "ipython",
    "version": 3
   },
   "file_extension": ".py",
   "mimetype": "text/x-python",
   "name": "python",
   "nbconvert_exporter": "python",
   "pygments_lexer": "ipython3",
   "version": "3.10.6"
  }
 },
 "nbformat": 4,
 "nbformat_minor": 2
}
