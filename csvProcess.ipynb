{
 "cells": [
  {
   "cell_type": "code",
   "execution_count": 1,
   "metadata": {},
   "outputs": [],
   "source": [
    "import os, shutil, json, codecs\n",
    "import psycopg2\n",
    "import pandas as pd\n",
    "import matplotlib as plt\n",
    "import numpy as np"
   ]
  },
  {
   "cell_type": "code",
   "execution_count": 2,
   "metadata": {
    "scrolled": true
   },
   "outputs": [
    {
     "data": {
      "text/html": [
       "<div>\n",
       "<style scoped>\n",
       "    .dataframe tbody tr th:only-of-type {\n",
       "        vertical-align: middle;\n",
       "    }\n",
       "\n",
       "    .dataframe tbody tr th {\n",
       "        vertical-align: top;\n",
       "    }\n",
       "\n",
       "    .dataframe thead th {\n",
       "        text-align: right;\n",
       "    }\n",
       "</style>\n",
       "<table border=\"1\" class=\"dataframe\">\n",
       "  <thead>\n",
       "    <tr style=\"text-align: right;\">\n",
       "      <th></th>\n",
       "      <th>ID</th>\n",
       "      <th>First Name</th>\n",
       "      <th>Last Name</th>\n",
       "      <th>Gender</th>\n",
       "      <th>Username</th>\n",
       "      <th>Email</th>\n",
       "      <th>University</th>\n",
       "      <th>Language</th>\n",
       "    </tr>\n",
       "  </thead>\n",
       "  <tbody>\n",
       "    <tr>\n",
       "      <th>0</th>\n",
       "      <td>1</td>\n",
       "      <td>Cecilius</td>\n",
       "      <td>Jewsbury</td>\n",
       "      <td>Male</td>\n",
       "      <td>cjewsbury0</td>\n",
       "      <td>cjewsbury0@pen.io</td>\n",
       "      <td>Swinburne University of Technology, Sarawak Ca...</td>\n",
       "      <td>Bengali</td>\n",
       "    </tr>\n",
       "    <tr>\n",
       "      <th>1</th>\n",
       "      <td>2</td>\n",
       "      <td>Garik</td>\n",
       "      <td>Lawford</td>\n",
       "      <td>Male</td>\n",
       "      <td>glawford1</td>\n",
       "      <td>glawford1@trellian.com</td>\n",
       "      <td>Bangladesh University of Professionals</td>\n",
       "      <td>Bislama</td>\n",
       "    </tr>\n",
       "    <tr>\n",
       "      <th>2</th>\n",
       "      <td>3</td>\n",
       "      <td>Estrellita</td>\n",
       "      <td>Azam</td>\n",
       "      <td>Female</td>\n",
       "      <td>eazam2</td>\n",
       "      <td>eazam2@ustream.tv</td>\n",
       "      <td>University of Peradeniya</td>\n",
       "      <td>Tok Pisin</td>\n",
       "    </tr>\n",
       "    <tr>\n",
       "      <th>3</th>\n",
       "      <td>4</td>\n",
       "      <td>Christabel</td>\n",
       "      <td>de Keep</td>\n",
       "      <td>Female</td>\n",
       "      <td>cdekeep3</td>\n",
       "      <td>cdekeep3@census.gov</td>\n",
       "      <td>Mississippi State University</td>\n",
       "      <td>Hebrew</td>\n",
       "    </tr>\n",
       "    <tr>\n",
       "      <th>4</th>\n",
       "      <td>5</td>\n",
       "      <td>Ev</td>\n",
       "      <td>Darrel</td>\n",
       "      <td>Male</td>\n",
       "      <td>edarrel4</td>\n",
       "      <td>edarrel4@examiner.com</td>\n",
       "      <td>Southern Connecticut State University</td>\n",
       "      <td>Aymara</td>\n",
       "    </tr>\n",
       "    <tr>\n",
       "      <th>...</th>\n",
       "      <td>...</td>\n",
       "      <td>...</td>\n",
       "      <td>...</td>\n",
       "      <td>...</td>\n",
       "      <td>...</td>\n",
       "      <td>...</td>\n",
       "      <td>...</td>\n",
       "      <td>...</td>\n",
       "    </tr>\n",
       "    <tr>\n",
       "      <th>995</th>\n",
       "      <td>996</td>\n",
       "      <td>Hillel</td>\n",
       "      <td>Gunson</td>\n",
       "      <td>Male</td>\n",
       "      <td>hgunsonrn</td>\n",
       "      <td>hgunsonrn@example.com</td>\n",
       "      <td>Ecole des Hautes Etudes Commerciales MAROC</td>\n",
       "      <td>Gujarati</td>\n",
       "    </tr>\n",
       "    <tr>\n",
       "      <th>996</th>\n",
       "      <td>997</td>\n",
       "      <td>Calv</td>\n",
       "      <td>Antonutti</td>\n",
       "      <td>Male</td>\n",
       "      <td>cantonuttiro</td>\n",
       "      <td>cantonuttiro@123-reg.co.uk</td>\n",
       "      <td>North Eastern Hill University</td>\n",
       "      <td>Lithuanian</td>\n",
       "    </tr>\n",
       "    <tr>\n",
       "      <th>997</th>\n",
       "      <td>998</td>\n",
       "      <td>Chip</td>\n",
       "      <td>Hanney</td>\n",
       "      <td>Male</td>\n",
       "      <td>channeyrp</td>\n",
       "      <td>channeyrp@kickstarter.com</td>\n",
       "      <td>Mordovian State University</td>\n",
       "      <td>Belarusian</td>\n",
       "    </tr>\n",
       "    <tr>\n",
       "      <th>998</th>\n",
       "      <td>999</td>\n",
       "      <td>Ric</td>\n",
       "      <td>Linde</td>\n",
       "      <td>Male</td>\n",
       "      <td>rlinderq</td>\n",
       "      <td>rlinderq@imgur.com</td>\n",
       "      <td>Université Kongo</td>\n",
       "      <td>Punjabi</td>\n",
       "    </tr>\n",
       "    <tr>\n",
       "      <th>999</th>\n",
       "      <td>1000</td>\n",
       "      <td>Nelie</td>\n",
       "      <td>Padell</td>\n",
       "      <td>Female</td>\n",
       "      <td>npadellrr</td>\n",
       "      <td>npadellrr@npr.org</td>\n",
       "      <td>Christian-Albrechts-Universität Kiel</td>\n",
       "      <td>Swahili</td>\n",
       "    </tr>\n",
       "  </tbody>\n",
       "</table>\n",
       "<p>1000 rows × 8 columns</p>\n",
       "</div>"
      ],
      "text/plain": [
       "       ID  First Name  Last Name  Gender      Username  \\\n",
       "0       1    Cecilius   Jewsbury    Male    cjewsbury0   \n",
       "1       2       Garik    Lawford    Male     glawford1   \n",
       "2       3  Estrellita       Azam  Female        eazam2   \n",
       "3       4  Christabel    de Keep  Female      cdekeep3   \n",
       "4       5          Ev     Darrel    Male      edarrel4   \n",
       "..    ...         ...        ...     ...           ...   \n",
       "995   996      Hillel     Gunson    Male     hgunsonrn   \n",
       "996   997        Calv  Antonutti    Male  cantonuttiro   \n",
       "997   998        Chip     Hanney    Male     channeyrp   \n",
       "998   999         Ric      Linde    Male      rlinderq   \n",
       "999  1000       Nelie     Padell  Female     npadellrr   \n",
       "\n",
       "                          Email  \\\n",
       "0             cjewsbury0@pen.io   \n",
       "1        glawford1@trellian.com   \n",
       "2             eazam2@ustream.tv   \n",
       "3           cdekeep3@census.gov   \n",
       "4         edarrel4@examiner.com   \n",
       "..                          ...   \n",
       "995       hgunsonrn@example.com   \n",
       "996  cantonuttiro@123-reg.co.uk   \n",
       "997   channeyrp@kickstarter.com   \n",
       "998          rlinderq@imgur.com   \n",
       "999           npadellrr@npr.org   \n",
       "\n",
       "                                            University    Language  \n",
       "0    Swinburne University of Technology, Sarawak Ca...     Bengali  \n",
       "1               Bangladesh University of Professionals     Bislama  \n",
       "2                             University of Peradeniya   Tok Pisin  \n",
       "3                         Mississippi State University      Hebrew  \n",
       "4                Southern Connecticut State University      Aymara  \n",
       "..                                                 ...         ...  \n",
       "995         Ecole des Hautes Etudes Commerciales MAROC    Gujarati  \n",
       "996                      North Eastern Hill University  Lithuanian  \n",
       "997                         Mordovian State University  Belarusian  \n",
       "998                                   Université Kongo     Punjabi  \n",
       "999               Christian-Albrechts-Universität Kiel     Swahili  \n",
       "\n",
       "[1000 rows x 8 columns]"
      ]
     },
     "execution_count": 2,
     "metadata": {},
     "output_type": "execute_result"
    }
   ],
   "source": [
    "file = \"Student @Information!.csv\";\n",
    "df = pd.read_csv(file)\n",
    "df"
   ]
  },
  {
   "cell_type": "code",
   "execution_count": 3,
   "metadata": {},
   "outputs": [
    {
     "data": {
      "text/plain": [
       "'student_information'"
      ]
     },
     "execution_count": 3,
     "metadata": {},
     "output_type": "execute_result"
    }
   ],
   "source": [
    "# adjust table name\n",
    "file_name = file.split(\".\")[0]\n",
    "table_name = file_name.lower().replace(\" \", \"_\").replace(\"!\", \"\").replace(\"@\", \"\")\n",
    "table_name"
   ]
  },
  {
   "cell_type": "code",
   "execution_count": 4,
   "metadata": {},
   "outputs": [
    {
     "data": {
      "text/plain": [
       "Index(['ID', 'First Name', 'Last Name', 'Gender', 'Username', 'Email',\n",
       "       'University', 'Language'],\n",
       "      dtype='object')"
      ]
     },
     "execution_count": 4,
     "metadata": {},
     "output_type": "execute_result"
    }
   ],
   "source": [
    "df.columns"
   ]
  },
  {
   "cell_type": "code",
   "execution_count": 5,
   "metadata": {},
   "outputs": [
    {
     "data": {
      "text/plain": [
       "Index(['id', 'first_name', 'last_name', 'gender', 'username', 'email',\n",
       "       'university', 'language'],\n",
       "      dtype='object')"
      ]
     },
     "execution_count": 5,
     "metadata": {},
     "output_type": "execute_result"
    }
   ],
   "source": [
    "df.columns = [x.lower().replace(\" \", \"_\") for x in df.columns]\n",
    "df.columns"
   ]
  },
  {
   "cell_type": "code",
   "execution_count": 6,
   "metadata": {},
   "outputs": [
    {
     "name": "stdout",
     "output_type": "stream",
     "text": [
      "Connect successfully!\n"
     ]
    }
   ],
   "source": [
    "conn = cur = None\n",
    "conn = psycopg2.connect(\n",
    "    host=\"localhost\", \n",
    "    dbname=\"csv_db\", \n",
    "    user=\"postgres\", \n",
    "    password=\"namvt16052004\", \n",
    "    port=5432\n",
    ")\n",
    "cur = conn.cursor()\n",
    "if (conn and cur):\n",
    "    print(\"Connect successfully!\")"
   ]
  },
  {
   "cell_type": "code",
   "execution_count": 7,
   "metadata": {},
   "outputs": [],
   "source": [
    "# create table student_information\n",
    "# (\n",
    "#     id                int,\n",
    "#     first_name        varchar,\n",
    "#     last_name         varchar,\n",
    "#     gender            varchar,\n",
    "#     username          varchar,\n",
    "#     email             varchar,\n",
    "#     university        varchar,\n",
    "#     language          varchar\n",
    "# );"
   ]
  },
  {
   "cell_type": "code",
   "execution_count": 8,
   "metadata": {},
   "outputs": [
    {
     "data": {
      "text/plain": [
       "id             int64\n",
       "first_name    object\n",
       "last_name     object\n",
       "gender        object\n",
       "username      object\n",
       "email         object\n",
       "university    object\n",
       "language      object\n",
       "dtype: object"
      ]
     },
     "execution_count": 8,
     "metadata": {},
     "output_type": "execute_result"
    }
   ],
   "source": [
    "df.dtypes"
   ]
  },
  {
   "cell_type": "code",
   "execution_count": 9,
   "metadata": {},
   "outputs": [
    {
     "data": {
      "text/plain": [
       "{'object': 'varchar',\n",
       " 'int64': 'int',\n",
       " 'float64': 'float',\n",
       " 'datetime64': 'timestamp',\n",
       " 'timedelta64[ns]': 'varchar'}"
      ]
     },
     "execution_count": 9,
     "metadata": {},
     "output_type": "execute_result"
    }
   ],
   "source": [
    "replacements = {\n",
    "    \"object\": \"varchar\",\n",
    "    \"int64\": \"int\",\n",
    "    \"float64\": \"float\",\n",
    "    \"datetime64\": \"timestamp\",\n",
    "    \"timedelta64[ns]\": \"varchar\"\n",
    "}\n",
    "\n",
    "replacements"
   ]
  },
  {
   "cell_type": "code",
   "execution_count": 10,
   "metadata": {},
   "outputs": [
    {
     "data": {
      "text/plain": [
       "'id int, first_name varchar, last_name varchar, gender varchar, username varchar, email varchar, university varchar, language varchar'"
      ]
     },
     "execution_count": 10,
     "metadata": {},
     "output_type": "execute_result"
    }
   ],
   "source": [
    "col_str = \", \".join(\"{} {}\".format(n, d) for (n, d) in zip(df.columns, df.dtypes.replace(replacements)))\n",
    "col_str"
   ]
  },
  {
   "cell_type": "code",
   "execution_count": 11,
   "metadata": {},
   "outputs": [],
   "source": [
    "# drop table if exists\n",
    "command = f\"drop table if exists {table_name}\"\n",
    "cur.execute(command)"
   ]
  },
  {
   "cell_type": "code",
   "execution_count": 12,
   "metadata": {},
   "outputs": [],
   "source": [
    "# create tables\n",
    "command = f\"create table {table_name} (id int, first_name varchar, last_name varchar, gender varchar, username varchar, email varchar, university varchar, language varchar)\"\n",
    "cur.execute(command)"
   ]
  },
  {
   "cell_type": "code",
   "execution_count": 13,
   "metadata": {},
   "outputs": [
    {
     "data": {
      "text/html": [
       "<div>\n",
       "<style scoped>\n",
       "    .dataframe tbody tr th:only-of-type {\n",
       "        vertical-align: middle;\n",
       "    }\n",
       "\n",
       "    .dataframe tbody tr th {\n",
       "        vertical-align: top;\n",
       "    }\n",
       "\n",
       "    .dataframe thead th {\n",
       "        text-align: right;\n",
       "    }\n",
       "</style>\n",
       "<table border=\"1\" class=\"dataframe\">\n",
       "  <thead>\n",
       "    <tr style=\"text-align: right;\">\n",
       "      <th></th>\n",
       "      <th>id</th>\n",
       "      <th>first_name</th>\n",
       "      <th>last_name</th>\n",
       "      <th>gender</th>\n",
       "      <th>username</th>\n",
       "      <th>email</th>\n",
       "      <th>university</th>\n",
       "      <th>language</th>\n",
       "    </tr>\n",
       "  </thead>\n",
       "  <tbody>\n",
       "    <tr>\n",
       "      <th>0</th>\n",
       "      <td>1</td>\n",
       "      <td>Cecilius</td>\n",
       "      <td>Jewsbury</td>\n",
       "      <td>Male</td>\n",
       "      <td>cjewsbury0</td>\n",
       "      <td>cjewsbury0@pen.io</td>\n",
       "      <td>Swinburne University of Technology, Sarawak Ca...</td>\n",
       "      <td>Bengali</td>\n",
       "    </tr>\n",
       "    <tr>\n",
       "      <th>1</th>\n",
       "      <td>2</td>\n",
       "      <td>Garik</td>\n",
       "      <td>Lawford</td>\n",
       "      <td>Male</td>\n",
       "      <td>glawford1</td>\n",
       "      <td>glawford1@trellian.com</td>\n",
       "      <td>Bangladesh University of Professionals</td>\n",
       "      <td>Bislama</td>\n",
       "    </tr>\n",
       "    <tr>\n",
       "      <th>2</th>\n",
       "      <td>3</td>\n",
       "      <td>Estrellita</td>\n",
       "      <td>Azam</td>\n",
       "      <td>Female</td>\n",
       "      <td>eazam2</td>\n",
       "      <td>eazam2@ustream.tv</td>\n",
       "      <td>University of Peradeniya</td>\n",
       "      <td>Tok Pisin</td>\n",
       "    </tr>\n",
       "    <tr>\n",
       "      <th>3</th>\n",
       "      <td>4</td>\n",
       "      <td>Christabel</td>\n",
       "      <td>de Keep</td>\n",
       "      <td>Female</td>\n",
       "      <td>cdekeep3</td>\n",
       "      <td>cdekeep3@census.gov</td>\n",
       "      <td>Mississippi State University</td>\n",
       "      <td>Hebrew</td>\n",
       "    </tr>\n",
       "    <tr>\n",
       "      <th>4</th>\n",
       "      <td>5</td>\n",
       "      <td>Ev</td>\n",
       "      <td>Darrel</td>\n",
       "      <td>Male</td>\n",
       "      <td>edarrel4</td>\n",
       "      <td>edarrel4@examiner.com</td>\n",
       "      <td>Southern Connecticut State University</td>\n",
       "      <td>Aymara</td>\n",
       "    </tr>\n",
       "    <tr>\n",
       "      <th>...</th>\n",
       "      <td>...</td>\n",
       "      <td>...</td>\n",
       "      <td>...</td>\n",
       "      <td>...</td>\n",
       "      <td>...</td>\n",
       "      <td>...</td>\n",
       "      <td>...</td>\n",
       "      <td>...</td>\n",
       "    </tr>\n",
       "    <tr>\n",
       "      <th>995</th>\n",
       "      <td>996</td>\n",
       "      <td>Hillel</td>\n",
       "      <td>Gunson</td>\n",
       "      <td>Male</td>\n",
       "      <td>hgunsonrn</td>\n",
       "      <td>hgunsonrn@example.com</td>\n",
       "      <td>Ecole des Hautes Etudes Commerciales MAROC</td>\n",
       "      <td>Gujarati</td>\n",
       "    </tr>\n",
       "    <tr>\n",
       "      <th>996</th>\n",
       "      <td>997</td>\n",
       "      <td>Calv</td>\n",
       "      <td>Antonutti</td>\n",
       "      <td>Male</td>\n",
       "      <td>cantonuttiro</td>\n",
       "      <td>cantonuttiro@123-reg.co.uk</td>\n",
       "      <td>North Eastern Hill University</td>\n",
       "      <td>Lithuanian</td>\n",
       "    </tr>\n",
       "    <tr>\n",
       "      <th>997</th>\n",
       "      <td>998</td>\n",
       "      <td>Chip</td>\n",
       "      <td>Hanney</td>\n",
       "      <td>Male</td>\n",
       "      <td>channeyrp</td>\n",
       "      <td>channeyrp@kickstarter.com</td>\n",
       "      <td>Mordovian State University</td>\n",
       "      <td>Belarusian</td>\n",
       "    </tr>\n",
       "    <tr>\n",
       "      <th>998</th>\n",
       "      <td>999</td>\n",
       "      <td>Ric</td>\n",
       "      <td>Linde</td>\n",
       "      <td>Male</td>\n",
       "      <td>rlinderq</td>\n",
       "      <td>rlinderq@imgur.com</td>\n",
       "      <td>Université Kongo</td>\n",
       "      <td>Punjabi</td>\n",
       "    </tr>\n",
       "    <tr>\n",
       "      <th>999</th>\n",
       "      <td>1000</td>\n",
       "      <td>Nelie</td>\n",
       "      <td>Padell</td>\n",
       "      <td>Female</td>\n",
       "      <td>npadellrr</td>\n",
       "      <td>npadellrr@npr.org</td>\n",
       "      <td>Christian-Albrechts-Universität Kiel</td>\n",
       "      <td>Swahili</td>\n",
       "    </tr>\n",
       "  </tbody>\n",
       "</table>\n",
       "<p>1000 rows × 8 columns</p>\n",
       "</div>"
      ],
      "text/plain": [
       "       id  first_name  last_name  gender      username  \\\n",
       "0       1    Cecilius   Jewsbury    Male    cjewsbury0   \n",
       "1       2       Garik    Lawford    Male     glawford1   \n",
       "2       3  Estrellita       Azam  Female        eazam2   \n",
       "3       4  Christabel    de Keep  Female      cdekeep3   \n",
       "4       5          Ev     Darrel    Male      edarrel4   \n",
       "..    ...         ...        ...     ...           ...   \n",
       "995   996      Hillel     Gunson    Male     hgunsonrn   \n",
       "996   997        Calv  Antonutti    Male  cantonuttiro   \n",
       "997   998        Chip     Hanney    Male     channeyrp   \n",
       "998   999         Ric      Linde    Male      rlinderq   \n",
       "999  1000       Nelie     Padell  Female     npadellrr   \n",
       "\n",
       "                          email  \\\n",
       "0             cjewsbury0@pen.io   \n",
       "1        glawford1@trellian.com   \n",
       "2             eazam2@ustream.tv   \n",
       "3           cdekeep3@census.gov   \n",
       "4         edarrel4@examiner.com   \n",
       "..                          ...   \n",
       "995       hgunsonrn@example.com   \n",
       "996  cantonuttiro@123-reg.co.uk   \n",
       "997   channeyrp@kickstarter.com   \n",
       "998          rlinderq@imgur.com   \n",
       "999           npadellrr@npr.org   \n",
       "\n",
       "                                            university    language  \n",
       "0    Swinburne University of Technology, Sarawak Ca...     Bengali  \n",
       "1               Bangladesh University of Professionals     Bislama  \n",
       "2                             University of Peradeniya   Tok Pisin  \n",
       "3                         Mississippi State University      Hebrew  \n",
       "4                Southern Connecticut State University      Aymara  \n",
       "..                                                 ...         ...  \n",
       "995         Ecole des Hautes Etudes Commerciales MAROC    Gujarati  \n",
       "996                      North Eastern Hill University  Lithuanian  \n",
       "997                         Mordovian State University  Belarusian  \n",
       "998                                   Université Kongo     Punjabi  \n",
       "999               Christian-Albrechts-Universität Kiel     Swahili  \n",
       "\n",
       "[1000 rows x 8 columns]"
      ]
     },
     "execution_count": 13,
     "metadata": {},
     "output_type": "execute_result"
    }
   ],
   "source": [
    "# new csv\n",
    "df.to_csv((table_name + \".csv\"), header=df.columns, index=False, encoding=\"utf-8\")\n",
    "df"
   ]
  },
  {
   "cell_type": "code",
   "execution_count": 14,
   "metadata": {},
   "outputs": [
    {
     "name": "stdout",
     "output_type": "stream",
     "text": [
      "Open successfully\n"
     ]
    }
   ],
   "source": [
    "# open csv file\n",
    "myFile = open(table_name + \".csv\")\n",
    "if (myFile):\n",
    "    print(\"Open successfully\")"
   ]
  },
  {
   "cell_type": "code",
   "execution_count": 15,
   "metadata": {},
   "outputs": [],
   "source": [
    "# insert\n",
    "command = \"COPY student_information FROM STDIN WITH CSV HEADER DELIMITER AS ','\"\n",
    "cur.copy_expert(sql=command, file=myFile)"
   ]
  },
  {
   "cell_type": "code",
   "execution_count": 16,
   "metadata": {},
   "outputs": [],
   "source": [
    "# change mode\n",
    "command = f\"grant select on table {table_name} to public\""
   ]
  },
  {
   "cell_type": "code",
   "execution_count": 57,
   "metadata": {},
   "outputs": [],
   "source": [
    "# close\n",
    "conn.commit()\n",
    "if cur is not None:\n",
    "    cur.close()\n",
    "if conn is not None:\n",
    "    conn.close() "
   ]
  }
 ],
 "metadata": {
  "kernelspec": {
   "display_name": "Python 3 (ipykernel)",
   "language": "python",
   "name": "python3"
  },
  "language_info": {
   "codemirror_mode": {
    "name": "ipython",
    "version": 3
   },
   "file_extension": ".py",
   "mimetype": "text/x-python",
   "name": "python",
   "nbconvert_exporter": "python",
   "pygments_lexer": "ipython3",
   "version": "3.10.6"
  }
 },
 "nbformat": 4,
 "nbformat_minor": 2
}
